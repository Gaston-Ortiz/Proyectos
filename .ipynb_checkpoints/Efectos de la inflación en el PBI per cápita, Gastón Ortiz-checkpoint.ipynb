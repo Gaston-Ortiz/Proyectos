{
 "cells": [
  {
   "cell_type": "markdown",
   "metadata": {},
   "source": [
    "<h1><center>Efectos de la inflación en el PBI per cápita</center></h1>"
   ]
  },
  {
   "cell_type": "markdown",
   "metadata": {},
   "source": [
    "### Contenido\n",
    "* [Introducción](#intro)\n",
    "* [Metodologia](#marco)\n",
    "* [Preparacion del data set](#data)\n",
    "* [Resultados](#resultados)\n",
    "* [Conclusiones](#conclusiones)\n",
    "* [Bibliografía](#biblio)"
   ]
  },
  {
   "cell_type": "markdown",
   "metadata": {},
   "source": [
    "<a id=\"intro\"></a>\n",
    "<h2><center>Introducción</center></h2>\n",
    "La inflación es y ha sido un tema de debate en la economía. Por este motivo los economistas se han preocupado sus posibles efectos y como esta afecta a la vida cotidiana de las personas. Dos posturas bien marcadas en referencia a este tema se han desarrollado a lo largo del tiempo.<br>\n",
    "Entre los principales efectos negativos de la inflación se encuentras:<br>\n",
    "<ul>\n",
    "<li> La redistribución no planificada de ingresos y riqueza.</li>\n",
    "<li> incertidumbre adicional sobre los precios futuros introducidos en las decisiones sobre consumo, ahorro, endeudamiento e inversión.</li>\n",
    "<li> Los costos más altos de identificar cambios en los precios relativos y asignar recursos en consecuencia.</li>\n",
    "</ul>\n",
    "Teniendo en cuenta estos efectos negativos de la inflación, en este trabajo se examinara la relación entre la inflación y el PBI per cápita en un modelo de crecimiento exógeno, con su respectiva estimación. También se hará uso de un modelo empírico, donde a través de una estimación donde se relacionan las principales variables que afectan al pbipc, incluidas en ellas la inflación, se calculara la relación entre estas 2 variables.<br>"
   ]
  },
  {
   "cell_type": "markdown",
   "metadata": {},
   "source": [
    "<a id=\"marco\"></a>\n",
    "<h2><center>Marco Teorico</center></h2>\n",
    "Se parte de un modelo neoclásico de crecimiento exógeno, y agregando la inflación al modelo permitirá ver como esta afecta al PBI per cápita. Partiendo de esto, se utilizara el modelo de Solow-Swan y la versión de Mankiw-Romer-Weil (MRW), donde la función de producción es igual a:<br>\n",
    "$Y_t=K_t^α H_t^β (A_t L_t)^{1-α-β}$  0<α+β<1 (1)<br>\n",
    "\n",
    "Donde $K$ es igual al stock de capital físico, $H$ es igual al stock de capital humano, $L$ es igual al trabajo y $A$ es el nivel de tecnología potenciador de trabajo. α es la elasticidad del producto con respecto al capital físico, β es la elasticidad del producto con respecto al capital humano y 1-α-β  la elasticidad del producto con respecto al trabajo.<br>\n",
    "El trabajo y el progreso tecnológico crecen a una tasa exógena, se suponga que el factor de cambio tecnológico aumenta la eficiencia de la mano de obra y debe seguir un cambio técnico neutral en el sentido de Harrod.<br>\n",
    "$L=L_0 e^{nt}$    (2)<br>\n",
    "$A=A_0 e^{gt}$   (3)<br>\n",
    "La función de producción satisface las 3 condiciendo de la función de producción neoclásica.<br>\n",
    "La evolución de la economía es determinada por:<br>\n",
    "$\\dot{k}_t= s_k y_t - (n+g+δ) k_t$    (4)<br>\n",
    "$\\dot{h}_t= s_h y_t - (n+g+δ) h_t$    (5)<br>\n",
    "Donde $y=Y/(AL)$ es el producto(o ingreso) por trabajador efectivo, $k=K/(AL)$ es el capital físico por trabajador efectivo y $h=H/(AL)$ es el capital humano por trabajador efectivo.$\\dot{k}$ es la evolución el capital físico por trabajador efectivo y  $\\dot{h}$ es la evolución del capital humano por trabajador efectivo al próximo instante.Se supone que la misma función de producción puede ser aplicada para capital humano, físico y consumo. Además la tasa de depreciación del capital físico y humano son las mismas.<br>\n",
    "La economía converge al estado estacionario definido por:<br>\n",
    "$ k^*=((s_k^{1-β} s_h^β)/(n+g+δ))^{1/(1-α-β)} $    (6)<br>\n",
    "$h^*=((s_k^α s_h^{1-α})/(n+g+δ))^{1/(1-α-β)} $    (7)<br>\n",
    "Sustituyendo en la función de producción y tomando logaritmos. La ecuación para el producto per cápita es igual a:<br>\n",
    "$ln⁡(Y_t/L_t)= ln⁡(A_0) + gt - (α+β)/(1-α-β)ln⁡(n+g+δ) + α/(1-α-β)ln⁡(s_k) +β/(1-α-β)ln⁡(s_h )$  (8)<br>\n",
    "Esta ecuación muestra como el ingreso per cápita depende de la acumulación de capital físico y capital humano, y también depende de la tasa de crecimiento de la población, la tasa de progreso tecnológico y la tasa de depreciación.<br> \n",
    "Otra forma de expresar 8 puede ser utilizando la ecuación 7, en donde el capital humano alcanza el estado estacionario y remplazarlo en la ecuación 8. Por lo que quedaría la siguiente ecuación:<br>\n",
    "$ln⁡(Y_t/L_t) = ln⁡(A_0) + gt - α/(1-α)ln⁡(n+g+δ) + α/(1-α)ln⁡(s_k) + β/(1-α)ln⁡(h^*)$  (9)<br>\n",
    "Donde esta se muestra que al ingreso per cápita o pbi per cápita como una función que depende de la tasa de crecimiento de la población, de la tasa de progreso tecnológico, la tasa de depreciación, la tasa de inversión del capital físico y por ultimo del nivel de capital humano en vez de su tasa de inversión. Este arreglo nos permitirá estimar más fácil la incidencia del capital humano en el nivel de ingreso.<br>\n",
    "Por ultimo para tener en cuenta la inflación en el modelo, hay que hacer algunos ajustes. Primero supondremos que la tasa de crecimiento del progreso tecnológico también depende de la inflación, por lo que:<br>\n",
    "$g_t = g(π_t)$ ,donde  $dg/dπ \\le 0$   (10)<br>\n",
    "Donde $π_t$ es la tasa de inflación al momento t .La tasa de progreso tecnológico depende negativamente de la inflación, por lo que un mayor nivel de inflación reducirá el progreso tecnológico. Esto deriva a que A, al tiempo t dependa de:<br>\n",
    "$ A_t= A_0 e^{∫_0^t g(π_s)ds} $    (11)<br>\n",
    "Esta ecuación puede ser aproximada como:<br>\n",
    "$A_t= A_0 e^{(g_0+g_1 \\bar{π})t} $    (12)<br>\n",
    "Donde $\\bar{π}$ es la inflación promedio entre el tiempo 0 y t, y $g_1$ es negativo.<br>\n",
    "Si tenemos en cuenta la ecuación 12 y haciendo algunos ajustes en la ecuación 9 nos quedaría lo siguiente:<br>\n",
    "$ln⁡(Y_t/L_t) = ln⁡(A_0)+(g_0+g_1 \\bar{π})t - α/(1-α)ln⁡(n+g_0+g_1 \\bar{π}+δ) + α/(1-α)ln⁡(s_k) + β/(1-α)ln⁡(h^*) $ (13)<br>"
   ]
  },
  {
   "cell_type": "markdown",
   "metadata": {},
   "source": [
    "<h2><center>Aproximación Estadistica</center></h2>\n",
    "Para poder estimar la ecuación numero 13 hacemos algunos arreglos y nos quedaría la siguiente ecuación econométrica:<br>\n",
    "$ ln⁡(Y/L) = β_0 + β_1ln⁡(s_k) + β_2ln(h^*)+β_3ln⁡(n+g_0+g_1 \\bar{π}+δ) + μ $  (14)<br>\n",
    "Donde:<br>\n",
    "$β_0=ln⁡(A_0) + (g_0+g_1 \\bar{π})t $<br>\n",
    "$β_1= α/(1-α)$<br>\n",
    "$β_2= β/(1-α)$<br>\n",
    "$β_3= α/(1-α)$<br>\n",
    "A la ecuación 14 se la estimara por el método de mínimos cuadrados ordinarios, utilizando una base de datos de corte transversal con los valores promediados entre 1980 y 2010. Se utiliza ese periodo de años porque tenemos información disponible para los datos de inflación.<br>\n",
    "También se hará una estimación utilizando datos de panel, primero usando mínimos cuadrados agrupados y después una estimación de Efecto Fijo, por lo que se debe arreglar la ecuación 13 de la siguiente forma:<br>\n",
    "$ln⁡(Y/L)= β_1ln⁡(s_k)+ β_2ln(h^*) + β_3ln⁡(n+g_0+g_1 \\bar{π}+δ) + η_t + μ_i + v_it $ (15)\n",
    "Donde<br>\n",
    "$β_1 = α/(1-α)$<br>\n",
    "$β_2 = β/(1-α)$<br>\n",
    "$β_3 = α/(1-α)$<br>\n",
    "$μ_i = Ln(A_0)$<br>\n",
    "$v_it =$ termino error <br>\n",
    "$v_it$ varía según el país y el periodo y tiene media igual a 0. El termino $μ_i$ es el término que representa el efecto de cada país invariante en el tiempo, con se podrá controlarlo para que no sesgar las estimaciones. Se utiliza una estimación de efectos fijos porque se supone que $μ_i$ esta correlacionado con las variables independientes, también se puede utilizar el método de primera diferencia para eliminar $μ_i$. El término $μ_i$ puede incluir las condiciones climáticas de cada país, los recursos naturales, instituciones, costumbres y otras variables que se mantienen constantes en el tiempo pero que varían de un país a otro y que afectan a las variables independientes.<br>\n",
    "Los datos de panel utilizados se dividen en periodos de 5 años, desde 1980 a 2010. Los valores de cada periodo es el promedio de los 5 años que dura, esto nos permite que las estudiar más apropiadamente el pbi per cápita. Además con esta configuración, los v_it ahora están separados por cinco años calendario, por lo tanto, se puede pensar que están menos influenciados por las fluctuaciones del ciclo económico y es menos probable que estén correlacionados, como podrían estar en una configuración de datos anual.<br>\n",
    "Los datos utilizados son obtenidos de la Penn World Table 9.1 (PWT) y del International Financial Statistics (IFS). Para el periodo de años estudiados se cuanta con una muestra de 73 países que poseen todos los datos necesarios por lo que gracias a ello se tiene un base de datos de panel balanceado.<br>\n",
    "La variable dependiente es:<br>\n",
    "<ul>\n",
    "    <li><strong>Logaritmo natural del PBI per cápita</strong>(pbipc): Es igual al PBI dividido en la población total, construido con datos de la PWT.</li>\n",
    "</ul>\n",
    "Las variables independientes son las siguientes:<br>\n",
    "<ul>\n",
    "    <li><strong>Logaritmo natural de la inversión</strong>(Sk): Esta variables es sacada de la PWT y es igual a la participación de la inversión en el PBI (I/PBI).</li>\n",
    "    <li><strong>Logaritmo natural del índice de Capital humano</strong>(h): Es un índice de capital humano por persona, basado en años de escolaridad y retornos a la educación sacado de la PWT.</li>\n",
    "    <li><strong>Logaritmo natural de la suma de la tasa de crecimiento de la población, la tasa de depreciación, la tasa de progreso tecnológico y la tasa de inflación</strong>(ngs): Sacados de las PWT.</li>\n",
    "    <li><strong>Logaritmo natural de la suma de la tasa de crecimiento de la población ocupada, la tasa de depreciación, la tasa de progreso tecnológico y la tasa de inflación</strong>(ngsi): La inflación es sacada de  la IFS.</li>\n",
    "</ul>\n",
    "Además para la regresión adicional se agregan otras variables:<br>\n",
    "<ul>\n",
    "    <li><strong>Logaritmo natural de la apertura de un país</strong>(openness):  Es igual a la suma de las exportación e importación como participación del PBI ($(X + M)/PBI$).</li>\n",
    "    <li><strong>Logaritmo natural participación del consumo del gobierno en el PBI</strong>(gov).</li>\n",
    "    <li><strong>Logaritmo natural de la volatilidad de la inflación</strong>(volatilidad): Es igual al índice de volatilidad de la inflación.</li>\n",
    "</ul>\n",
    "\n"
   ]
  },
  {
   "cell_type": "markdown",
   "metadata": {},
   "source": [
    "<a id=\"data\"></a>\n",
    "<h2><center>Preparacion del data set</center></h2>"
   ]
  },
  {
   "cell_type": "code",
   "execution_count": 1,
   "metadata": {},
   "outputs": [],
   "source": [
    "# Cargo las librerias que voy a usar \n",
    "import pandas as pd\n",
    "import numpy as np\n",
    "from scipy.stats import variation \n",
    "import seaborn as sns\n",
    "import statsmodels as sm\n",
    "import statsmodels.formula.api as smf\n",
    "from linearmodels import PanelOLS, RandomEffects, FirstDifferenceOLS\n",
    "from linearmodels.panel import compare\n",
    "import linearmodels as lm"
   ]
  },
  {
   "cell_type": "markdown",
   "metadata": {},
   "source": [
    "Los datos que utilicé se pueden obtener de:<br>\n",
    "* https://www.rug.nl/ggdc/productivity/pwt/\n",
    "* Inflación https://data.imf.org/?sk=388DFA60-1D26-4ADE-B505-A05A558D9A42&sId=1479329132316"
   ]
  },
  {
   "cell_type": "code",
   "execution_count": 2,
   "metadata": {},
   "outputs": [],
   "source": [
    "# Cargo las bases de datos y las arreglo\n",
    "pen = pd.read_excel('C:/Users/usuario/Desktop/Gaston/universidad/Desarrollo/trabajo final/pwt91final.xlsx')\n",
    "fmi = pd.read_excel('C:/Users/usuario/Desktop/Gaston/universidad/Desarrollo/trabajo final/base de datos/ifstatic/inflacionbaseoriginal.xlsx')\n",
    "fmi = fmi.filter(['Country Name','Time Period','Prices, Consumer Price Index, All items, Index (PCPI_IX)','Prices, Consumer Price Index, All items, Percentage change, Previous period, Percent (PCPI_PC_PP_PT)'])\n",
    "fmi[\"inflacion\"] = fmi[\"Prices, Consumer Price Index, All items, Percentage change, Previous period, Percent (PCPI_PC_PP_PT)\"]\n",
    "fmi = fmi.filter(['Country Name','Time Period','inflacion'])\n",
    "fmi = fmi.rename(columns= {\"Country Name\":\"country\",\"Time Period\":\"year\"})\n",
    "fmi[\"inflacion\"] = fmi[\"inflacion\"] / 100"
   ]
  },
  {
   "cell_type": "code",
   "execution_count": 3,
   "metadata": {},
   "outputs": [],
   "source": [
    "# Filtro las variables que voy a usar\n",
    "df = pen.filter(['country','year','pop','emp','ccon','hc','rgdpna','vpbipc','rtfpna','csh_c','csh_i','csh_g','csh_x','csh_m','delta'])\n",
    "df = pd.merge(left=df, right=fmi, how='left', left_on=['country','year'], right_on=['country','year'])"
   ]
  },
  {
   "cell_type": "code",
   "execution_count": 4,
   "metadata": {},
   "outputs": [],
   "source": [
    "# creo las variables\n",
    "df['pbipc'] = df['rgdpna'] / df['pop']\n",
    "df[\"openness\"] = df[\"csh_x\"] - df[\"csh_m\"]\n",
    "df[\"var_n\"] = df[\"pop\"].pct_change()\n",
    "df[\"g\"] = df[\"rtfpna\"].pct_change()\n",
    "df[\"A\"] = df[\"rtfpna\"].pct_change()\n",
    "df[\"sk\"] = df[\"csh_i\"]\n",
    "df[\"sh\"] = df[\"hc\"]\n",
    "df[\"gov\"] = df[\"csh_g\"]\n",
    "df['inflacion2'] = df['inflacion'] ** 2"
   ]
  },
  {
   "cell_type": "code",
   "execution_count": 5,
   "metadata": {},
   "outputs": [],
   "source": [
    "# Elimino los años que no tengo en cuenta\n",
    "df = df.drop(df.query('year < 1980').index)\n",
    "df = df.drop(df.query('year > 2010').index)"
   ]
  },
  {
   "cell_type": "code",
   "execution_count": 6,
   "metadata": {},
   "outputs": [],
   "source": [
    "# Borro los paises que no tengan datos para los años seleccionados\n",
    "for index, row in df.iterrows():\n",
    "    if np.isnan(row.pbipc):\n",
    "        df = df.drop(df[df.country == row.country].index) "
   ]
  },
  {
   "cell_type": "code",
   "execution_count": 7,
   "metadata": {},
   "outputs": [],
   "source": [
    "# Borro los paises que no tengan datos para los años seleccionados\n",
    "for index, row in df.iterrows():\n",
    "    if np.isnan(row.inflacion):\n",
    "        df = df.drop(df[df.country == row.country].index) "
   ]
  },
  {
   "cell_type": "code",
   "execution_count": 8,
   "metadata": {},
   "outputs": [],
   "source": [
    "# Borro los paises que no tengan datos para los años seleccionados\n",
    "for index, row in df.iterrows():\n",
    "    if np.isnan(row.rtfpna):\n",
    "        df = df.drop(df[df.country == row.country].index) "
   ]
  },
  {
   "cell_type": "code",
   "execution_count": 9,
   "metadata": {},
   "outputs": [
    {
     "name": "stdout",
     "output_type": "stream",
     "text": [
      "Cantidad de paises 73\n"
     ]
    }
   ],
   "source": [
    "# Cuento el total de paises que tengo \n",
    "print(\"Cantidad de paises\",df.country.unique().shape[0])"
   ]
  },
  {
   "cell_type": "code",
   "execution_count": 10,
   "metadata": {},
   "outputs": [],
   "source": [
    "# Creo la base de datos para el corte transversal\n",
    "dfols = df.drop(df.query(\"year != 2010\").index)\n",
    "dfols80 = df.drop(df.query(\"year != 1980\").index)\n",
    "df80 = dfols80.filter(['country','pbipc'])\n",
    "df80 = df80.rename(columns={'pbipc':'pbipc80'})\n",
    "dfols = pd.merge(left=dfols, right=df80, how='left', left_on=['country'], right_on=['country'])\n",
    "dfols['varpbipc'] = np.log(dfols.pbipc) - np.log(dfols.pbipc80)\n",
    "dfols['ngsi'] = dfols['g']+ dfols['var_n'] + dfols['delta'] + dfols['inflacion']\n",
    "dfols['ngs'] = dfols['g']+ dfols['var_n'] + dfols['delta']"
   ]
  },
  {
   "cell_type": "code",
   "execution_count": 11,
   "metadata": {},
   "outputs": [],
   "source": [
    "# Creo la base de datos de panel\n",
    "dfp = df\n",
    "dfp['year'] = pd.to_datetime(dfp.year, format='%Y')\n",
    "dfp = dfp.groupby(['country', pd.Grouper(key='year', freq='5AS')]).mean()\n",
    "dfp.reset_index(level=['country','year'], inplace=True)\n",
    "dfp['pbipc_1'] = dfp.groupby('country').pbipc.shift(1)\n",
    "dfp = dfp.set_index([\"country\",\"year\"])"
   ]
  },
  {
   "cell_type": "code",
   "execution_count": 12,
   "metadata": {},
   "outputs": [],
   "source": [
    "df1 = df\n",
    "df = df.set_index([\"country\",\"year\"])"
   ]
  },
  {
   "cell_type": "code",
   "execution_count": 13,
   "metadata": {},
   "outputs": [
    {
     "data": {
      "text/plain": [
       "0"
      ]
     },
     "execution_count": 13,
     "metadata": {},
     "output_type": "execute_result"
    }
   ],
   "source": [
    "# Creo las variables que me faltan \n",
    "df2 = df1.groupby(['country', pd.Grouper(key='year', freq='5AS')]).std()\n",
    "dfp['volatilidad'] = df2.inflacion / dfp.inflacion\n",
    "dfp['volatilidad'] = dfp.groupby('country')['volatilidad'].apply(lambda x: x.fillna(x.mean()))\n",
    "dfp['ngs'] = dfp['var_n'] + dfp['g'] + dfp['delta']\n",
    "dfp['ngsi'] = dfp['var_n'] + dfp['g'] + dfp['delta'] + dfp['inflacion']\n",
    "dfp['ngsi2'] = dfp['var_n'] + 0.05 + dfp['inflacion']\n",
    "dfp['ngs2'] = dfp['var_n'] + 0.05\n",
    "sum(dfp.ngsi2 <= 0)"
   ]
  },
  {
   "cell_type": "code",
   "execution_count": 14,
   "metadata": {},
   "outputs": [
    {
     "data": {
      "text/html": [
       "<div>\n",
       "<style scoped>\n",
       "    .dataframe tbody tr th:only-of-type {\n",
       "        vertical-align: middle;\n",
       "    }\n",
       "\n",
       "    .dataframe tbody tr th {\n",
       "        vertical-align: top;\n",
       "    }\n",
       "\n",
       "    .dataframe thead th {\n",
       "        text-align: right;\n",
       "    }\n",
       "</style>\n",
       "<table border=\"1\" class=\"dataframe\">\n",
       "  <thead>\n",
       "    <tr style=\"text-align: right;\">\n",
       "      <th></th>\n",
       "      <th></th>\n",
       "      <th>pop</th>\n",
       "      <th>emp</th>\n",
       "      <th>ccon</th>\n",
       "      <th>hc</th>\n",
       "      <th>rgdpna</th>\n",
       "      <th>vpbipc</th>\n",
       "      <th>rtfpna</th>\n",
       "      <th>csh_c</th>\n",
       "      <th>csh_i</th>\n",
       "      <th>csh_g</th>\n",
       "      <th>...</th>\n",
       "      <th>sk</th>\n",
       "      <th>sh</th>\n",
       "      <th>gov</th>\n",
       "      <th>inflacion2</th>\n",
       "      <th>pbipc_1</th>\n",
       "      <th>volatilidad</th>\n",
       "      <th>ngs</th>\n",
       "      <th>ngsi</th>\n",
       "      <th>ngsi2</th>\n",
       "      <th>ngs2</th>\n",
       "    </tr>\n",
       "    <tr>\n",
       "      <th>country</th>\n",
       "      <th>year</th>\n",
       "      <th></th>\n",
       "      <th></th>\n",
       "      <th></th>\n",
       "      <th></th>\n",
       "      <th></th>\n",
       "      <th></th>\n",
       "      <th></th>\n",
       "      <th></th>\n",
       "      <th></th>\n",
       "      <th></th>\n",
       "      <th></th>\n",
       "      <th></th>\n",
       "      <th></th>\n",
       "      <th></th>\n",
       "      <th></th>\n",
       "      <th></th>\n",
       "      <th></th>\n",
       "      <th></th>\n",
       "      <th></th>\n",
       "      <th></th>\n",
       "      <th></th>\n",
       "    </tr>\n",
       "  </thead>\n",
       "  <tbody>\n",
       "  </tbody>\n",
       "</table>\n",
       "<p>0 rows × 29 columns</p>\n",
       "</div>"
      ],
      "text/plain": [
       "Empty DataFrame\n",
       "Columns: [pop, emp, ccon, hc, rgdpna, vpbipc, rtfpna, csh_c, csh_i, csh_g, csh_x, csh_m, delta, inflacion, pbipc, openness, var_n, g, A, sk, sh, gov, inflacion2, pbipc_1, volatilidad, ngs, ngsi, ngsi2, ngs2]\n",
       "Index: []\n",
       "\n",
       "[0 rows x 29 columns]"
      ]
     },
     "execution_count": 14,
     "metadata": {},
     "output_type": "execute_result"
    }
   ],
   "source": [
    "# Relleno los valores nulos\n",
    "df = df.fillna(0)\n",
    "dfp = dfp.fillna(0)\n",
    "dfp[dfp.isna().any(axis=1)]"
   ]
  },
  {
   "cell_type": "code",
   "execution_count": 15,
   "metadata": {
    "scrolled": true
   },
   "outputs": [
    {
     "data": {
      "text/html": [
       "<div>\n",
       "<style scoped>\n",
       "    .dataframe tbody tr th:only-of-type {\n",
       "        vertical-align: middle;\n",
       "    }\n",
       "\n",
       "    .dataframe tbody tr th {\n",
       "        vertical-align: top;\n",
       "    }\n",
       "\n",
       "    .dataframe thead th {\n",
       "        text-align: right;\n",
       "    }\n",
       "</style>\n",
       "<table border=\"1\" class=\"dataframe\">\n",
       "  <thead>\n",
       "    <tr style=\"text-align: right;\">\n",
       "      <th></th>\n",
       "      <th>pbipc</th>\n",
       "      <th>csh_i</th>\n",
       "      <th>hc</th>\n",
       "      <th>ngs</th>\n",
       "      <th>ngsi</th>\n",
       "      <th>inflacion</th>\n",
       "    </tr>\n",
       "  </thead>\n",
       "  <tbody>\n",
       "    <tr>\n",
       "      <th>count</th>\n",
       "      <td>511.000000</td>\n",
       "      <td>511.000000</td>\n",
       "      <td>511.000000</td>\n",
       "      <td>511.000000</td>\n",
       "      <td>511.000000</td>\n",
       "      <td>511.000000</td>\n",
       "    </tr>\n",
       "    <tr>\n",
       "      <th>mean</th>\n",
       "      <td>20114.450533</td>\n",
       "      <td>0.227365</td>\n",
       "      <td>2.415515</td>\n",
       "      <td>0.061004</td>\n",
       "      <td>0.237364</td>\n",
       "      <td>0.176360</td>\n",
       "    </tr>\n",
       "    <tr>\n",
       "      <th>std</th>\n",
       "      <td>20245.034700</td>\n",
       "      <td>0.084767</td>\n",
       "      <td>0.670621</td>\n",
       "      <td>0.029348</td>\n",
       "      <td>0.928972</td>\n",
       "      <td>0.929739</td>\n",
       "    </tr>\n",
       "    <tr>\n",
       "      <th>min</th>\n",
       "      <td>745.908438</td>\n",
       "      <td>0.012890</td>\n",
       "      <td>1.017274</td>\n",
       "      <td>-0.032442</td>\n",
       "      <td>0.011235</td>\n",
       "      <td>-0.030161</td>\n",
       "    </tr>\n",
       "    <tr>\n",
       "      <th>25%</th>\n",
       "      <td>5817.647015</td>\n",
       "      <td>0.174439</td>\n",
       "      <td>1.930070</td>\n",
       "      <td>0.044835</td>\n",
       "      <td>0.079605</td>\n",
       "      <td>0.024079</td>\n",
       "    </tr>\n",
       "    <tr>\n",
       "      <th>50%</th>\n",
       "      <td>13159.238565</td>\n",
       "      <td>0.225511</td>\n",
       "      <td>2.463740</td>\n",
       "      <td>0.055528</td>\n",
       "      <td>0.117163</td>\n",
       "      <td>0.049738</td>\n",
       "    </tr>\n",
       "    <tr>\n",
       "      <th>75%</th>\n",
       "      <td>29123.388588</td>\n",
       "      <td>0.275490</td>\n",
       "      <td>2.923515</td>\n",
       "      <td>0.072520</td>\n",
       "      <td>0.172383</td>\n",
       "      <td>0.101281</td>\n",
       "    </tr>\n",
       "    <tr>\n",
       "      <th>max</th>\n",
       "      <td>146726.561557</td>\n",
       "      <td>0.619758</td>\n",
       "      <td>3.703131</td>\n",
       "      <td>0.262611</td>\n",
       "      <td>16.140703</td>\n",
       "      <td>16.074078</td>\n",
       "    </tr>\n",
       "  </tbody>\n",
       "</table>\n",
       "</div>"
      ],
      "text/plain": [
       "               pbipc       csh_i          hc         ngs        ngsi  \\\n",
       "count     511.000000  511.000000  511.000000  511.000000  511.000000   \n",
       "mean    20114.450533    0.227365    2.415515    0.061004    0.237364   \n",
       "std     20245.034700    0.084767    0.670621    0.029348    0.928972   \n",
       "min       745.908438    0.012890    1.017274   -0.032442    0.011235   \n",
       "25%      5817.647015    0.174439    1.930070    0.044835    0.079605   \n",
       "50%     13159.238565    0.225511    2.463740    0.055528    0.117163   \n",
       "75%     29123.388588    0.275490    2.923515    0.072520    0.172383   \n",
       "max    146726.561557    0.619758    3.703131    0.262611   16.140703   \n",
       "\n",
       "        inflacion  \n",
       "count  511.000000  \n",
       "mean     0.176360  \n",
       "std      0.929739  \n",
       "min     -0.030161  \n",
       "25%      0.024079  \n",
       "50%      0.049738  \n",
       "75%      0.101281  \n",
       "max     16.074078  "
      ]
     },
     "execution_count": 15,
     "metadata": {},
     "output_type": "execute_result"
    }
   ],
   "source": [
    "dfp[['pbipc','csh_i','hc','ngs','ngsi','inflacion']].describe()"
   ]
  },
  {
   "cell_type": "markdown",
   "metadata": {},
   "source": [
    "<a id=\"resultados\"></a>\n",
    "<h2><center>Resultados</center></h2>\n",
    "Para tener una idea preliminar de cómo se relaciona el pbipc con la inflación, se grafica la relación parcial entre ambos por medio de una regresión de mínimos cuadrados ordinarios simple.<br>"
   ]
  },
  {
   "cell_type": "code",
   "execution_count": 16,
   "metadata": {
    "scrolled": true
   },
   "outputs": [
    {
     "data": {
      "text/plain": [
       "<matplotlib.axes._subplots.AxesSubplot at 0x17a2b893a88>"
      ]
     },
     "execution_count": 16,
     "metadata": {},
     "output_type": "execute_result"
    },
    {
     "data": {
      "image/png": "[encoded data removed]",
      "text/plain": [
       "<Figure size 432x288 with 1 Axes>"
      ]
     },
     "metadata": {
      "needs_background": "light"
     },
     "output_type": "display_data"
    }
   ],
   "source": [
    "df3 = df1\n",
    "df3.drop(df3.query('inflacion <= 0').index,inplace=True)\n",
    "sns.regplot(x=np.log(df3[\"inflacion\"]),y =np.log(df3[\"pbipc\"]))"
   ]
  },
  {
   "cell_type": "code",
   "execution_count": 17,
   "metadata": {
    "scrolled": true
   },
   "outputs": [
    {
     "data": {
      "text/plain": [
       "-0.2672263577320084"
      ]
     },
     "execution_count": 17,
     "metadata": {},
     "output_type": "execute_result"
    }
   ],
   "source": [
    "reg_simple = smf.ols('np.log(pbipc)~np.log(inflacion)',df3).fit()\n",
    "reg_simple.params[1]"
   ]
  },
  {
   "cell_type": "markdown",
   "metadata": {},
   "source": [
    "Se puede ver claramente una relación negativa entre estas dos variables ya que la pendiente de la gráfica es igual a -0,27. Por lo que preliminarmente se cuenta con un indicio de esta relación, aunque puede estar sesgada por sesgo de variable omitida o sobre estimada.<br>\n",
    "Comenzando con el modelo de Mankiw Romer y Weil y teniendo en cuenta la aproximación estadística desarrollado anteriormente, estimamos la ecuación 14.Primero la regresión que no tiene en cuenta la inflación.<br>"
   ]
  },
  {
   "cell_type": "code",
   "execution_count": 18,
   "metadata": {},
   "outputs": [
    {
     "data": {
      "text/plain": [
       "Index(['country', 'year', 'pop', 'emp', 'ccon', 'hc', 'rgdpna', 'vpbipc',\n",
       "       'rtfpna', 'csh_c', 'csh_i', 'csh_g', 'csh_x', 'csh_m', 'delta',\n",
       "       'inflacion', 'pbipc', 'openness', 'var_n', 'g', 'A', 'sk', 'sh', 'gov',\n",
       "       'inflacion2', 'pbipc80', 'varpbipc', 'ngsi', 'ngs'],\n",
       "      dtype='object')"
      ]
     },
     "execution_count": 18,
     "metadata": {},
     "output_type": "execute_result"
    }
   ],
   "source": [
    "dfols.keys()"
   ]
  },
  {
   "cell_type": "code",
   "execution_count": 19,
   "metadata": {},
   "outputs": [
    {
     "name": "stderr",
     "output_type": "stream",
     "text": [
      "C:\\Users\\usuario\\.conda\\envs\\economia\\lib\\site-packages\\pandas\\core\\series.py:679: RuntimeWarning: invalid value encountered in log\n",
      "  result = getattr(ufunc, method)(*inputs, **kwargs)\n"
     ]
    },
    {
     "data": {
      "text/html": [
       "<table class=\"simpletable\">\n",
       "<caption>OLS Regression Results</caption>\n",
       "<tr>\n",
       "  <th>Dep. Variable:</th>    <td>np.log(dfols['pbipc'])</td> <th>  R-squared:         </th> <td>   0.800</td>\n",
       "</tr>\n",
       "<tr>\n",
       "  <th>Model:</th>                      <td>OLS</td>          <th>  Adj. R-squared:    </th> <td>   0.791</td>\n",
       "</tr>\n",
       "<tr>\n",
       "  <th>Method:</th>                <td>Least Squares</td>     <th>  F-statistic:       </th> <td>   90.77</td>\n",
       "</tr>\n",
       "<tr>\n",
       "  <th>Date:</th>                <td>Mon, 08 Jun 2020</td>    <th>  Prob (F-statistic):</th> <td>9.94e-24</td>\n",
       "</tr>\n",
       "<tr>\n",
       "  <th>Time:</th>                    <td>15:59:27</td>        <th>  Log-Likelihood:    </th> <td> -51.243</td>\n",
       "</tr>\n",
       "<tr>\n",
       "  <th>No. Observations:</th>         <td>    72</td>         <th>  AIC:               </th> <td>   110.5</td>\n",
       "</tr>\n",
       "<tr>\n",
       "  <th>Df Residuals:</th>             <td>    68</td>         <th>  BIC:               </th> <td>   119.6</td>\n",
       "</tr>\n",
       "<tr>\n",
       "  <th>Df Model:</th>                 <td>     3</td>         <th>                     </th>     <td> </td>   \n",
       "</tr>\n",
       "<tr>\n",
       "  <th>Covariance Type:</th>         <td>nonrobust</td>       <th>                     </th>     <td> </td>   \n",
       "</tr>\n",
       "</table>\n",
       "<table class=\"simpletable\">\n",
       "<tr>\n",
       "             <td></td>               <th>coef</th>     <th>std err</th>      <th>t</th>      <th>P>|t|</th>  <th>[0.025</th>    <th>0.975]</th>  \n",
       "</tr>\n",
       "<tr>\n",
       "  <th>Intercept</th>              <td>    7.4958</td> <td>    0.448</td> <td>   16.735</td> <td> 0.000</td> <td>    6.602</td> <td>    8.390</td>\n",
       "</tr>\n",
       "<tr>\n",
       "  <th>np.log(dfols['csh_i'])</th> <td>    0.8373</td> <td>    0.217</td> <td>    3.866</td> <td> 0.000</td> <td>    0.405</td> <td>    1.270</td>\n",
       "</tr>\n",
       "<tr>\n",
       "  <th>np.log(dfols['hc'])</th>    <td>    3.2820</td> <td>    0.230</td> <td>   14.247</td> <td> 0.000</td> <td>    2.822</td> <td>    3.742</td>\n",
       "</tr>\n",
       "<tr>\n",
       "  <th>np.log(dfols['ngs'])</th>   <td>   -0.0814</td> <td>    0.108</td> <td>   -0.755</td> <td> 0.453</td> <td>   -0.296</td> <td>    0.134</td>\n",
       "</tr>\n",
       "</table>\n",
       "<table class=\"simpletable\">\n",
       "<tr>\n",
       "  <th>Omnibus:</th>       <td> 8.194</td> <th>  Durbin-Watson:     </th> <td>   1.592</td>\n",
       "</tr>\n",
       "<tr>\n",
       "  <th>Prob(Omnibus):</th> <td> 0.017</td> <th>  Jarque-Bera (JB):  </th> <td>   9.977</td>\n",
       "</tr>\n",
       "<tr>\n",
       "  <th>Skew:</th>          <td> 0.486</td> <th>  Prob(JB):          </th> <td> 0.00682</td>\n",
       "</tr>\n",
       "<tr>\n",
       "  <th>Kurtosis:</th>      <td> 4.543</td> <th>  Cond. No.          </th> <td>    28.0</td>\n",
       "</tr>\n",
       "</table><br/><br/>Warnings:<br/>[1] Standard Errors assume that the covariance matrix of the errors is correctly specified."
      ],
      "text/plain": [
       "<class 'statsmodels.iolib.summary.Summary'>\n",
       "\"\"\"\n",
       "                              OLS Regression Results                              \n",
       "==================================================================================\n",
       "Dep. Variable:     np.log(dfols['pbipc'])   R-squared:                       0.800\n",
       "Model:                                OLS   Adj. R-squared:                  0.791\n",
       "Method:                     Least Squares   F-statistic:                     90.77\n",
       "Date:                    Mon, 08 Jun 2020   Prob (F-statistic):           9.94e-24\n",
       "Time:                            15:59:27   Log-Likelihood:                -51.243\n",
       "No. Observations:                      72   AIC:                             110.5\n",
       "Df Residuals:                          68   BIC:                             119.6\n",
       "Df Model:                               3                                         \n",
       "Covariance Type:                nonrobust                                         \n",
       "==========================================================================================\n",
       "                             coef    std err          t      P>|t|      [0.025      0.975]\n",
       "------------------------------------------------------------------------------------------\n",
       "Intercept                  7.4958      0.448     16.735      0.000       6.602       8.390\n",
       "np.log(dfols['csh_i'])     0.8373      0.217      3.866      0.000       0.405       1.270\n",
       "np.log(dfols['hc'])        3.2820      0.230     14.247      0.000       2.822       3.742\n",
       "np.log(dfols['ngs'])      -0.0814      0.108     -0.755      0.453      -0.296       0.134\n",
       "==============================================================================\n",
       "Omnibus:                        8.194   Durbin-Watson:                   1.592\n",
       "Prob(Omnibus):                  0.017   Jarque-Bera (JB):                9.977\n",
       "Skew:                           0.486   Prob(JB):                      0.00682\n",
       "Kurtosis:                       4.543   Cond. No.                         28.0\n",
       "==============================================================================\n",
       "\n",
       "Warnings:\n",
       "[1] Standard Errors assume that the covariance matrix of the errors is correctly specified.\n",
       "\"\"\""
      ]
     },
     "execution_count": 19,
     "metadata": {},
     "output_type": "execute_result"
    }
   ],
   "source": [
    "# Primera regresión del modelo de MRW sin inflación\n",
    "# Regresión 1\n",
    "m1 = smf.ols(\"np.log(dfols['pbipc']) ~ np.log(dfols['csh_i']) + np.log(dfols['hc']) + np.log(dfols['ngs'])\",data=dfols).fit()\n",
    "m1.summary()"
   ]
  },
  {
   "cell_type": "markdown",
   "metadata": {},
   "source": [
    "Se observa que los coeficientes estimados son los esperados en cuanto a signo, ya que son los mismo predichos por el modelo. Si comparamos con las estimaciones de MRW difieren en cuanto a magnitud, esto se debe primero a un cambio en los periodos de estimación (1980-2010 vs 1960-1985) y también se debe a la forma en que se mide h, donde MRW utilizan la tasa de escolarización secundaria a comparación del indicé de capital humano utilizado. Por último la forma de medir g y  δ en este trabajo es con los datos de la PWT en cambio MRW utilizan una constate g + δ = 0,05.<br>\n",
    " También a mencionar es que los coeficientes de Ln (Sk) y Ln (h) son significativos al nivel de significancia del 1% en una prueba t de dos colas y que  el coeficiente de Ln (ngs) a un nivel de significancia del 10% no es significativo.<br>\n",
    "Cuando te tiene en cuenta la inflación en el modelo los resultados son los siguientes:<br>"
   ]
  },
  {
   "cell_type": "code",
   "execution_count": 20,
   "metadata": {
    "scrolled": false
   },
   "outputs": [
    {
     "data": {
      "text/html": [
       "<table class=\"simpletable\">\n",
       "<caption>OLS Regression Results</caption>\n",
       "<tr>\n",
       "  <th>Dep. Variable:</th>    <td>np.log(dfols['pbipc'])</td> <th>  R-squared:         </th> <td>   0.768</td>\n",
       "</tr>\n",
       "<tr>\n",
       "  <th>Model:</th>                      <td>OLS</td>          <th>  Adj. R-squared:    </th> <td>   0.758</td>\n",
       "</tr>\n",
       "<tr>\n",
       "  <th>Method:</th>                <td>Least Squares</td>     <th>  F-statistic:       </th> <td>   76.33</td>\n",
       "</tr>\n",
       "<tr>\n",
       "  <th>Date:</th>                <td>Mon, 08 Jun 2020</td>    <th>  Prob (F-statistic):</th> <td>7.10e-22</td>\n",
       "</tr>\n",
       "<tr>\n",
       "  <th>Time:</th>                    <td>15:59:27</td>        <th>  Log-Likelihood:    </th> <td> -57.900</td>\n",
       "</tr>\n",
       "<tr>\n",
       "  <th>No. Observations:</th>         <td>    73</td>         <th>  AIC:               </th> <td>   123.8</td>\n",
       "</tr>\n",
       "<tr>\n",
       "  <th>Df Residuals:</th>             <td>    69</td>         <th>  BIC:               </th> <td>   133.0</td>\n",
       "</tr>\n",
       "<tr>\n",
       "  <th>Df Model:</th>                 <td>     3</td>         <th>                     </th>     <td> </td>   \n",
       "</tr>\n",
       "<tr>\n",
       "  <th>Covariance Type:</th>         <td>nonrobust</td>       <th>                     </th>     <td> </td>   \n",
       "</tr>\n",
       "</table>\n",
       "<table class=\"simpletable\">\n",
       "<tr>\n",
       "             <td></td>               <th>coef</th>     <th>std err</th>      <th>t</th>      <th>P>|t|</th>  <th>[0.025</th>    <th>0.975]</th>  \n",
       "</tr>\n",
       "<tr>\n",
       "  <th>Intercept</th>              <td>    7.0446</td> <td>    0.525</td> <td>   13.410</td> <td> 0.000</td> <td>    5.997</td> <td>    8.093</td>\n",
       "</tr>\n",
       "<tr>\n",
       "  <th>np.log(dfols['csh_i'])</th> <td>    0.8322</td> <td>    0.228</td> <td>    3.646</td> <td> 0.001</td> <td>    0.377</td> <td>    1.288</td>\n",
       "</tr>\n",
       "<tr>\n",
       "  <th>np.log(dfols['hc'])</th>    <td>    3.1220</td> <td>    0.248</td> <td>   12.611</td> <td> 0.000</td> <td>    2.628</td> <td>    3.616</td>\n",
       "</tr>\n",
       "<tr>\n",
       "  <th>np.log(dfols['ngsi'])</th>  <td>   -0.3730</td> <td>    0.148</td> <td>   -2.515</td> <td> 0.014</td> <td>   -0.669</td> <td>   -0.077</td>\n",
       "</tr>\n",
       "</table>\n",
       "<table class=\"simpletable\">\n",
       "<tr>\n",
       "  <th>Omnibus:</th>       <td>18.058</td> <th>  Durbin-Watson:     </th> <td>   1.914</td>\n",
       "</tr>\n",
       "<tr>\n",
       "  <th>Prob(Omnibus):</th> <td> 0.000</td> <th>  Jarque-Bera (JB):  </th> <td>  27.439</td>\n",
       "</tr>\n",
       "<tr>\n",
       "  <th>Skew:</th>          <td> 0.960</td> <th>  Prob(JB):          </th> <td>1.10e-06</td>\n",
       "</tr>\n",
       "<tr>\n",
       "  <th>Kurtosis:</th>      <td> 5.310</td> <th>  Cond. No.          </th> <td>    27.0</td>\n",
       "</tr>\n",
       "</table><br/><br/>Warnings:<br/>[1] Standard Errors assume that the covariance matrix of the errors is correctly specified."
      ],
      "text/plain": [
       "<class 'statsmodels.iolib.summary.Summary'>\n",
       "\"\"\"\n",
       "                              OLS Regression Results                              \n",
       "==================================================================================\n",
       "Dep. Variable:     np.log(dfols['pbipc'])   R-squared:                       0.768\n",
       "Model:                                OLS   Adj. R-squared:                  0.758\n",
       "Method:                     Least Squares   F-statistic:                     76.33\n",
       "Date:                    Mon, 08 Jun 2020   Prob (F-statistic):           7.10e-22\n",
       "Time:                            15:59:27   Log-Likelihood:                -57.900\n",
       "No. Observations:                      73   AIC:                             123.8\n",
       "Df Residuals:                          69   BIC:                             133.0\n",
       "Df Model:                               3                                         \n",
       "Covariance Type:                nonrobust                                         \n",
       "==========================================================================================\n",
       "                             coef    std err          t      P>|t|      [0.025      0.975]\n",
       "------------------------------------------------------------------------------------------\n",
       "Intercept                  7.0446      0.525     13.410      0.000       5.997       8.093\n",
       "np.log(dfols['csh_i'])     0.8322      0.228      3.646      0.001       0.377       1.288\n",
       "np.log(dfols['hc'])        3.1220      0.248     12.611      0.000       2.628       3.616\n",
       "np.log(dfols['ngsi'])     -0.3730      0.148     -2.515      0.014      -0.669      -0.077\n",
       "==============================================================================\n",
       "Omnibus:                       18.058   Durbin-Watson:                   1.914\n",
       "Prob(Omnibus):                  0.000   Jarque-Bera (JB):               27.439\n",
       "Skew:                           0.960   Prob(JB):                     1.10e-06\n",
       "Kurtosis:                       5.310   Cond. No.                         27.0\n",
       "==============================================================================\n",
       "\n",
       "Warnings:\n",
       "[1] Standard Errors assume that the covariance matrix of the errors is correctly specified.\n",
       "\"\"\""
      ]
     },
     "execution_count": 20,
     "metadata": {},
     "output_type": "execute_result"
    }
   ],
   "source": [
    "# Segunda regresión del modelo de MRW con inflación.\n",
    "# Regresión 2.\n",
    "m2 = smf.ols(\"np.log(dfols['pbipc']) ~ np.log(dfols['csh_i']) + np.log(dfols['hc']) + np.log(dfols['ngsi'])\",data=dfols).fit()\n",
    "m2.summary()"
   ]
  },
  {
   "cell_type": "markdown",
   "metadata": {},
   "source": [
    "Aquí también se obtienen los coeficientes estimados esperados, pero a diferencia de la primera regresión el coeficiente de Ln (ngsi) que ahora incluye a la inflación es significativo al 1%. Por lo que la inflación genera un impacto negativo mayor al anterior, esto quiere decir que una mayor inflación implica un menor pbipc por lo que genera un coeficiente estimado mayor comparado la regresión 1.<br>\n",
    "En ambas estimaciones la R cuadrada es alta, de 0,8 para la primera y de 0,77 para la segunda estimación, esto implica que el modelo explica gran parte de las variaciones del Ln (pbipc).<br>\n",
    "Utilizando una estimación de mínimos cuadrados agrupados y teniendo en cuenta que la base de datos que se ha utilizado comprende los mismos años que la de las tablas 1 y 2 pero en vez de ser un promedio de 30 años ahora se ha agrupado cada 5 años. Primero el modelo de MRW sin inflación:<br>"
   ]
  },
  {
   "cell_type": "code",
   "execution_count": 21,
   "metadata": {},
   "outputs": [
    {
     "name": "stdout",
     "output_type": "stream",
     "text": [
      "                           PooledOLS Estimation Summary                           \n",
      "==================================================================================\n",
      "Dep. Variable:     np.log(dfp['pbipc'])   R-squared:                        0.6762\n",
      "Estimator:                    PooledOLS   R-squared (Between):              0.6957\n",
      "No. Observations:                   504   R-squared (Within):               0.0666\n",
      "Date:                  Mon, Jun 08 2020   R-squared (Overall):              0.6762\n",
      "Time:                          15:59:28   Log-likelihood                   -478.48\n",
      "Cov. Estimator:              Unadjusted                                           \n",
      "                                          F-statistic:                      348.04\n",
      "Entities:                            73   P-value                           0.0000\n",
      "Avg Obs:                         6.9041   Distribution:                   F(3,500)\n",
      "Min Obs:                         5.0000                                           \n",
      "Max Obs:                         7.0000   F-statistic (robust):             348.04\n",
      "                                          P-value                           0.0000\n",
      "Time periods:                         7   Distribution:                   F(3,500)\n",
      "Avg Obs:                         72.000                                           \n",
      "Min Obs:                         68.000                                           \n",
      "Max Obs:                         73.000                                           \n",
      "                                                                                  \n",
      "                                  Parameter Estimates                                   \n",
      "========================================================================================\n",
      "                      Parameter  Std. Err.     T-stat    P-value    Lower CI    Upper CI\n",
      "----------------------------------------------------------------------------------------\n",
      "Intercept                7.8840     0.2355     33.476     0.0000      7.4212      8.3467\n",
      "np.log(dfp['csh_i'])     0.3648     0.0719     5.0749     0.0000      0.2236      0.5060\n",
      "np.log(dfp['hc'])        2.6485     0.1090     24.297     0.0000      2.4343      2.8627\n",
      "np.log(dfp['ngs'])       0.0498     0.0602     0.8267     0.4088     -0.0685      0.1681\n",
      "========================================================================================\n"
     ]
    },
    {
     "name": "stderr",
     "output_type": "stream",
     "text": [
      "C:\\Users\\usuario\\.conda\\envs\\economia\\lib\\site-packages\\linearmodels\\utility.py:549: MissingValueWarning: \n",
      "Inputs contain missing values. Dropping rows with missing observations.\n",
      "  warnings.warn(missing_value_warning_msg, MissingValueWarning)\n"
     ]
    }
   ],
   "source": [
    "# Regresión de mínimos cuadrados agrupados sin inflación\n",
    "# Regresión 3.\n",
    "mp1 = lm.PooledOLS.from_formula(\"np.log(dfp['pbipc']) ~ 1 + np.log(dfp['csh_i']) + np.log(dfp['hc']) + np.log(dfp['ngs'])\", data=dfp).fit()\n",
    "print(mp1)"
   ]
  },
  {
   "cell_type": "markdown",
   "metadata": {},
   "source": [
    "Se aprecia que los coeficientes de Ln (Sk) y Ln (h) son los esperados y son significativos al 1%. Pero cabe destacar que el coeficiente de Ln (ngs) es positivo pero no es significativo. Su p-value es igual a 0,40 por lo que no se puede asegurar que sea distinto de 0. Esto puede ocurrir debido a la forma de medir las variables g y δ.<br>\n",
    "Si pasamos a la estimación del modelo con inflación se obtiene:"
   ]
  },
  {
   "cell_type": "code",
   "execution_count": 22,
   "metadata": {
    "scrolled": false
   },
   "outputs": [
    {
     "name": "stdout",
     "output_type": "stream",
     "text": [
      "                           PooledOLS Estimation Summary                           \n",
      "==================================================================================\n",
      "Dep. Variable:     np.log(dfp['pbipc'])   R-squared:                        0.6724\n",
      "Estimator:                    PooledOLS   R-squared (Between):              0.7014\n",
      "No. Observations:                   511   R-squared (Within):              -0.0143\n",
      "Date:                  Mon, Jun 08 2020   R-squared (Overall):              0.6724\n",
      "Time:                          15:59:28   Log-likelihood                   -493.94\n",
      "Cov. Estimator:              Unadjusted                                           \n",
      "                                          F-statistic:                      346.82\n",
      "Entities:                            73   P-value                           0.0000\n",
      "Avg Obs:                         7.0000   Distribution:                   F(3,507)\n",
      "Min Obs:                         7.0000                                           \n",
      "Max Obs:                         7.0000   F-statistic (robust):             346.82\n",
      "                                          P-value                           0.0000\n",
      "Time periods:                         7   Distribution:                   F(3,507)\n",
      "Avg Obs:                         73.000                                           \n",
      "Min Obs:                         73.000                                           \n",
      "Max Obs:                         73.000                                           \n",
      "                                                                                  \n",
      "                                  Parameter Estimates                                   \n",
      "========================================================================================\n",
      "                      Parameter  Std. Err.     T-stat    P-value    Lower CI    Upper CI\n",
      "----------------------------------------------------------------------------------------\n",
      "Intercept                7.5982     0.2006     37.884     0.0000      7.2041      7.9922\n",
      "np.log(dfp['csh_i'])     0.3671     0.0731     5.0203     0.0000      0.2234      0.5108\n",
      "np.log(dfp['hc'])        2.5362     0.1079     23.512     0.0000      2.3243      2.7481\n",
      "np.log(dfp['ngsi'])     -0.1223     0.0404    -3.0274     0.0026     -0.2017     -0.0429\n",
      "========================================================================================\n"
     ]
    }
   ],
   "source": [
    "# Regresión de mínimos cuadrados agrupados con inflación\n",
    "# Regresión 4\n",
    "mp2 = lm.PooledOLS.from_formula(\"np.log(dfp['pbipc']) ~ 1 + np.log(dfp['csh_i']) + np.log(dfp['hc']) + np.log(dfp['ngsi'])\", data=dfp).fit()\n",
    "print(mp2)"
   ]
  },
  {
   "cell_type": "markdown",
   "metadata": {},
   "source": [
    "Aquí igual los coeficientes estimados de Sk y h son significativos al 1% en una prueba t de dos colas. A comparación de la anterior regresión, al agregar la inflación al termino ngs, el coeficiente estimado de este se vuelve negativo y significativo al 5%. Por lo que hay un indicio de que la inflación afecta negativamente al pbipc, al igual que en la estimación de MCO el coeficiente es negativo, confirmando el impacto negativo de la inflación en el crecimiento.<br>\n",
    "La R cuadrada es casi igual en ambas estimaciones, aproximadamente 0,67 por lo que también explica una buena parte de las variaciones del pbipc.<br>"
   ]
  },
  {
   "cell_type": "code",
   "execution_count": 23,
   "metadata": {},
   "outputs": [
    {
     "data": {
      "text/html": [
       "<table class=\"simpletable\">\n",
       "<caption>Model Comparison</caption>\n",
       "<tr>\n",
       "             <td></td>                 <th>Sin inflación</th>          <th>Con inflación</th>    \n",
       "</tr>\n",
       "<tr>\n",
       "  <th>Dep. Variable</th>           <td>np.log(dfp['pbipc'])</td>   <td>np.log(dfp['pbipc'])</td> \n",
       "</tr>\n",
       "<tr>\n",
       "  <th>Estimator</th>                     <td>PooledOLS</td>              <td>PooledOLS</td>      \n",
       "</tr>\n",
       "<tr>\n",
       "  <th>No. Observations</th>                 <td>504</td>                    <td>511</td>         \n",
       "</tr>\n",
       "<tr>\n",
       "  <th>Cov. Est.</th>                    <td>Unadjusted</td>             <td>Unadjusted</td>      \n",
       "</tr>\n",
       "<tr>\n",
       "  <th>R-squared</th>                      <td>0.6762</td>                 <td>0.6724</td>        \n",
       "</tr>\n",
       "<tr>\n",
       "  <th>R-Squared (Within)</th>             <td>0.0666</td>                 <td>-0.0143</td>       \n",
       "</tr>\n",
       "<tr>\n",
       "  <th>R-Squared (Between)</th>            <td>0.6957</td>                 <td>0.7014</td>        \n",
       "</tr>\n",
       "<tr>\n",
       "  <th>R-Squared (Overall)</th>            <td>0.6762</td>                 <td>0.6724</td>        \n",
       "</tr>\n",
       "<tr>\n",
       "  <th>F-statistic</th>                    <td>348.04</td>                 <td>346.82</td>        \n",
       "</tr>\n",
       "<tr>\n",
       "  <th>P-value (F-stat)</th>               <td>0.0000</td>                 <td>0.0000</td>        \n",
       "</tr>\n",
       "<tr>\n",
       "  <th>======================</th> <td>======================</td> <td>======================</td>\n",
       "</tr>\n",
       "<tr>\n",
       "  <th>Intercept</th>                      <td>7.8840</td>                 <td>7.5982</td>        \n",
       "</tr>\n",
       "<tr>\n",
       "  <th> </th>                             <td>(33.476)</td>               <td>(37.884)</td>       \n",
       "</tr>\n",
       "<tr>\n",
       "  <th>np.log(dfp['csh_i'])</th>           <td>0.3648</td>                 <td>0.3671</td>        \n",
       "</tr>\n",
       "<tr>\n",
       "  <th> </th>                             <td>(5.0749)</td>               <td>(5.0203)</td>       \n",
       "</tr>\n",
       "<tr>\n",
       "  <th>np.log(dfp['hc'])</th>              <td>2.6485</td>                 <td>2.5362</td>        \n",
       "</tr>\n",
       "<tr>\n",
       "  <th> </th>                             <td>(24.297)</td>               <td>(23.512)</td>       \n",
       "</tr>\n",
       "<tr>\n",
       "  <th>np.log(dfp['ngs'])</th>             <td>0.0498</td>                <td>        </td>       \n",
       "</tr>\n",
       "<tr>\n",
       "  <th> </th>                             <td>(0.8267)</td>               <td>        </td>       \n",
       "</tr>\n",
       "<tr>\n",
       "  <th>np.log(dfp['ngsi'])</th>           <td>        </td>                <td>-0.1223</td>       \n",
       "</tr>\n",
       "<tr>\n",
       "  <th> </th>                             <td>        </td>               <td>(-3.0274)</td>      \n",
       "</tr>\n",
       "</table><br/><br/>T-stats reported in parentheses<br/>id: 0x17a2b893f08"
      ],
      "text/plain": [
       "                          Model Comparison                          \n",
       "====================================================================\n",
       "                                Sin inflación          Con inflación\n",
       "--------------------------------------------------------------------\n",
       "Dep. Variable            np.log(dfp['pbipc'])   np.log(dfp['pbipc'])\n",
       "Estimator                           PooledOLS              PooledOLS\n",
       "No. Observations                          504                    511\n",
       "Cov. Est.                          Unadjusted             Unadjusted\n",
       "R-squared                              0.6762                 0.6724\n",
       "R-Squared (Within)                     0.0666                -0.0143\n",
       "R-Squared (Between)                    0.6957                 0.7014\n",
       "R-Squared (Overall)                    0.6762                 0.6724\n",
       "F-statistic                            348.04                 346.82\n",
       "P-value (F-stat)                       0.0000                 0.0000\n",
       "====================== ====================== ======================\n",
       "Intercept                              7.8840                 7.5982\n",
       "                                     (33.476)               (37.884)\n",
       "np.log(dfp['csh_i'])                   0.3648                 0.3671\n",
       "                                     (5.0749)               (5.0203)\n",
       "np.log(dfp['hc'])                      2.6485                 2.5362\n",
       "                                     (24.297)               (23.512)\n",
       "np.log(dfp['ngs'])                     0.0498                       \n",
       "                                     (0.8267)                       \n",
       "np.log(dfp['ngsi'])                                          -0.1223\n",
       "                                                           (-3.0274)\n",
       "--------------------------------------------------------------------\n",
       "\n",
       "T-stats reported in parentheses\n",
       "PanelModelComparison, id: 0x17a2b893f08"
      ]
     },
     "execution_count": 23,
     "metadata": {},
     "output_type": "execute_result"
    }
   ],
   "source": [
    "# Comparo los resultados\n",
    "compare({'Sin inflación':mp1,'Con inflación':mp2})"
   ]
  },
  {
   "cell_type": "markdown",
   "metadata": {},
   "source": [
    "Como disponemos de datos de panel podemos tener en cuenta los efectos que se mantienen fijos en el tiempo y que podrían sesgar los coeficientes estimados de cada variable. Dado esto, lo más conveniente sería estima un modelo de datos de panel con efecto fijo. El primero sin inflación es igual a:"
   ]
  },
  {
   "cell_type": "code",
   "execution_count": 24,
   "metadata": {},
   "outputs": [
    {
     "name": "stdout",
     "output_type": "stream",
     "text": [
      "                           PanelOLS Estimation Summary                            \n",
      "==================================================================================\n",
      "Dep. Variable:     np.log(dfp['pbipc'])   R-squared:                        0.6738\n",
      "Estimator:                     PanelOLS   R-squared (Between):              0.3002\n",
      "No. Observations:                   504   R-squared (Within):               0.0118\n",
      "Date:                  Mon, Jun 08 2020   R-squared (Overall):              0.3015\n",
      "Time:                          15:59:28   Log-likelihood                   -474.31\n",
      "Cov. Estimator:              Unadjusted                                           \n",
      "                                          F-statistic:                      340.12\n",
      "Entities:                            73   P-value                           0.0000\n",
      "Avg Obs:                         6.9041   Distribution:                   F(3,494)\n",
      "Min Obs:                         5.0000                                           \n",
      "Max Obs:                         7.0000   F-statistic (robust):             340.12\n",
      "                                          P-value                           0.0000\n",
      "Time periods:                         7   Distribution:                   F(3,494)\n",
      "Avg Obs:                         72.000                                           \n",
      "Min Obs:                         68.000                                           \n",
      "Max Obs:                         73.000                                           \n",
      "                                                                                  \n",
      "                                  Parameter Estimates                                   \n",
      "========================================================================================\n",
      "                      Parameter  Std. Err.     T-stat    P-value    Lower CI    Upper CI\n",
      "----------------------------------------------------------------------------------------\n",
      "np.log(dfp['csh_i'])     0.3526     0.0727     4.8517     0.0000      0.2098      0.4954\n",
      "np.log(dfp['hc'])        2.7448     0.1144     23.989     0.0000      2.5200      2.9696\n",
      "np.log(dfp['ngs'])       0.0852     0.0621     1.3722     0.1706     -0.0368      0.2072\n",
      "========================================================================================\n",
      "\n",
      "F-test for Poolability: 1.3746\n",
      "P-value: 0.2230\n",
      "Distribution: F(6,494)\n",
      "\n",
      "Included effects: Time\n"
     ]
    }
   ],
   "source": [
    "# Regresión least squares dummy variable o estimador de efecto fijo sin inflación \n",
    "# Regresión 5\n",
    "mpef = PanelOLS.from_formula(\"np.log(dfp['pbipc']) ~np.log(dfp['csh_i']) + np.log(dfp['hc']) + np.log(dfp['ngs']) + TimeEffects\", data=dfp).fit()\n",
    "print(mpef)"
   ]
  },
  {
   "cell_type": "markdown",
   "metadata": {},
   "source": [
    "Al añadir los efectos invariantes en el tiempo se mantienen casi igual los coeficientes estimados de Sk y h. El coeficiente estimado de ngs aumenta un poco al igual que su valor de t, pero sigue siendo no significativa a un nivel de significancia del 15%. Una de las posibilidades de porque se produce esto, es porque en MRW al igual que Nazrul Islam en su investigación suponen que g + δ = 0,05, en cambio en este trabajo se tomaron los valores correspondientes de g y δ de la Penn World Table.<br>\n",
    "Volviendo al modelo de MRW con inflación, se estima con efectos fijos:"
   ]
  },
  {
   "cell_type": "code",
   "execution_count": 25,
   "metadata": {},
   "outputs": [
    {
     "name": "stdout",
     "output_type": "stream",
     "text": [
      "                           PanelOLS Estimation Summary                            \n",
      "==================================================================================\n",
      "Dep. Variable:     np.log(dfp['pbipc'])   R-squared:                        0.6741\n",
      "Estimator:                     PanelOLS   R-squared (Between):              0.3947\n",
      "No. Observations:                   511   R-squared (Within):              -0.1369\n",
      "Date:                  Mon, Jun 08 2020   R-squared (Overall):              0.3944\n",
      "Time:                          15:59:28   Log-likelihood                   -486.43\n",
      "Cov. Estimator:              Unadjusted                                           \n",
      "                                          F-statistic:                      345.49\n",
      "Entities:                            73   P-value                           0.0000\n",
      "Avg Obs:                         7.0000   Distribution:                   F(3,501)\n",
      "Min Obs:                         7.0000                                           \n",
      "Max Obs:                         7.0000   F-statistic (robust):             345.49\n",
      "                                          P-value                           0.0000\n",
      "Time periods:                         7   Distribution:                   F(3,501)\n",
      "Avg Obs:                         73.000                                           \n",
      "Min Obs:                         73.000                                           \n",
      "Max Obs:                         73.000                                           \n",
      "                                                                                  \n",
      "                                  Parameter Estimates                                   \n",
      "========================================================================================\n",
      "                      Parameter  Std. Err.     T-stat    P-value    Lower CI    Upper CI\n",
      "----------------------------------------------------------------------------------------\n",
      "np.log(dfp['csh_i'])     0.3245     0.0741     4.3772     0.0000      0.1788      0.4701\n",
      "np.log(dfp['hc'])        2.6434     0.1108     23.866     0.0000      2.4258      2.8611\n",
      "np.log(dfp['ngsi'])     -0.1731     0.0424    -4.0787     0.0001     -0.2565     -0.0897\n",
      "========================================================================================\n",
      "\n",
      "F-test for Poolability: 2.4907\n",
      "P-value: 0.0220\n",
      "Distribution: F(6,501)\n",
      "\n",
      "Included effects: Time\n"
     ]
    }
   ],
   "source": [
    "# Regresión least squares dummy variable o estimador de efecto fijo con inflación \n",
    "# Regresión 6\n",
    "mpef1 = PanelOLS.from_formula(\"np.log(dfp['pbipc']) ~np.log(dfp['csh_i']) + np.log(dfp['hc']) + np.log(dfp['ngsi']) + TimeEffects\", data=dfp).fit()\n",
    "print(mpef1)"
   ]
  },
  {
   "cell_type": "markdown",
   "metadata": {},
   "source": [
    "Al igual que la estimación anterior permanecen igual los signos de los coeficientes estimados. Aunque el coeficiente estimado de Ln (ngsi) disminuye aún más, por lo que el efecto negativo sobre el pbipc, teniendo en cuenta los efectos que se mantienen fijos en el país pero que varían de un país a otro, es aún mayor. Además ahora es significativo a un nivel del 1%.<br>\n",
    "Con estos resultados se puede ver que los efectos invariantes en el tiempo afectan a los coeficientes estimados pero no en gran magnitud, salvo en el coeficiente estimado de Ln (inflación)."
   ]
  },
  {
   "cell_type": "code",
   "execution_count": 26,
   "metadata": {},
   "outputs": [
    {
     "data": {
      "text/html": [
       "<table class=\"simpletable\">\n",
       "<caption>Model Comparison</caption>\n",
       "<tr>\n",
       "              <td></td>                 <th>EF sin inflación</th>         <th>PO sin inflación</th>         <th>EF con inflación</th>         <th>PO con inflación</th>    \n",
       "</tr>\n",
       "<tr>\n",
       "  <th>Dep. Variable</th>              <td>np.log(dfp['pbipc'])</td>     <td>np.log(dfp['pbipc'])</td>     <td>np.log(dfp['pbipc'])</td>     <td>np.log(dfp['pbipc'])</td>  \n",
       "</tr>\n",
       "<tr>\n",
       "  <th>Estimator</th>                        <td>PanelOLS</td>                 <td>PooledOLS</td>                <td>PanelOLS</td>                 <td>PooledOLS</td>       \n",
       "</tr>\n",
       "<tr>\n",
       "  <th>No. Observations</th>                    <td>504</td>                      <td>504</td>                      <td>511</td>                      <td>511</td>          \n",
       "</tr>\n",
       "<tr>\n",
       "  <th>Cov. Est.</th>                       <td>Unadjusted</td>               <td>Unadjusted</td>               <td>Unadjusted</td>               <td>Unadjusted</td>       \n",
       "</tr>\n",
       "<tr>\n",
       "  <th>R-squared</th>                         <td>0.6738</td>                   <td>0.6762</td>                   <td>0.6741</td>                   <td>0.6724</td>         \n",
       "</tr>\n",
       "<tr>\n",
       "  <th>R-Squared (Within)</th>                <td>0.0118</td>                   <td>0.0666</td>                   <td>-0.1369</td>                  <td>-0.0143</td>        \n",
       "</tr>\n",
       "<tr>\n",
       "  <th>R-Squared (Between)</th>               <td>0.3002</td>                   <td>0.6957</td>                   <td>0.3947</td>                   <td>0.7014</td>         \n",
       "</tr>\n",
       "<tr>\n",
       "  <th>R-Squared (Overall)</th>               <td>0.3015</td>                   <td>0.6762</td>                   <td>0.3944</td>                   <td>0.6724</td>         \n",
       "</tr>\n",
       "<tr>\n",
       "  <th>F-statistic</th>                       <td>340.12</td>                   <td>348.04</td>                   <td>345.49</td>                   <td>346.82</td>         \n",
       "</tr>\n",
       "<tr>\n",
       "  <th>P-value (F-stat)</th>                  <td>0.0000</td>                   <td>0.0000</td>                   <td>0.0000</td>                   <td>0.0000</td>         \n",
       "</tr>\n",
       "<tr>\n",
       "  <th>======================</th>    <td>======================</td>   <td>======================</td>   <td>======================</td>   <td>======================</td> \n",
       "</tr>\n",
       "<tr>\n",
       "  <th>np.log(dfp['csh_i'])</th>              <td>0.3526</td>                   <td>0.3648</td>                   <td>0.3245</td>                   <td>0.3671</td>         \n",
       "</tr>\n",
       "<tr>\n",
       "  <th> </th>                                <td>(4.8517)</td>                 <td>(5.0749)</td>                 <td>(4.3772)</td>                 <td>(5.0203)</td>        \n",
       "</tr>\n",
       "<tr>\n",
       "  <th>np.log(dfp['hc'])</th>                 <td>2.7448</td>                   <td>2.6485</td>                   <td>2.6434</td>                   <td>2.5362</td>         \n",
       "</tr>\n",
       "<tr>\n",
       "  <th> </th>                                <td>(23.989)</td>                 <td>(24.297)</td>                 <td>(23.866)</td>                 <td>(23.512)</td>        \n",
       "</tr>\n",
       "<tr>\n",
       "  <th>np.log(dfp['ngs'])</th>                <td>0.0852</td>                   <td>0.0498</td>                  <td>        </td>                 <td>        </td>        \n",
       "</tr>\n",
       "<tr>\n",
       "  <th> </th>                                <td>(1.3722)</td>                 <td>(0.8267)</td>                 <td>        </td>                 <td>        </td>        \n",
       "</tr>\n",
       "<tr>\n",
       "  <th>Intercept</th>                        <td>        </td>                  <td>7.8840</td>                  <td>        </td>                  <td>7.5982</td>         \n",
       "</tr>\n",
       "<tr>\n",
       "  <th> </th>                                <td>        </td>                 <td>(33.476)</td>                 <td>        </td>                 <td>(37.884)</td>        \n",
       "</tr>\n",
       "<tr>\n",
       "  <th>np.log(dfp['ngsi'])</th>              <td>        </td>                 <td>        </td>                  <td>-0.1731</td>                  <td>-0.1223</td>        \n",
       "</tr>\n",
       "<tr>\n",
       "  <th> </th>                                <td>        </td>                 <td>        </td>                 <td>(-4.0787)</td>                <td>(-3.0274)</td>       \n",
       "</tr>\n",
       "<tr>\n",
       "  <th>========================</th> <td>========================</td> <td>========================</td> <td>========================</td> <td>========================</td>\n",
       "</tr>\n",
       "<tr>\n",
       "  <th>Effects</th>                            <td>Time</td>                       <td></td>                       <td>Time</td>                       <td></td>            \n",
       "</tr>\n",
       "</table><br/><br/>T-stats reported in parentheses<br/>id: 0x17a2b596848"
      ],
      "text/plain": [
       "                                                      Model Comparison                                                      \n",
       "============================================================================================================================\n",
       "                                 EF sin inflación         PO sin inflación         EF con inflación         PO con inflación\n",
       "----------------------------------------------------------------------------------------------------------------------------\n",
       "Dep. Variable                np.log(dfp['pbipc'])     np.log(dfp['pbipc'])     np.log(dfp['pbipc'])     np.log(dfp['pbipc'])\n",
       "Estimator                                PanelOLS                PooledOLS                 PanelOLS                PooledOLS\n",
       "No. Observations                              504                      504                      511                      511\n",
       "Cov. Est.                              Unadjusted               Unadjusted               Unadjusted               Unadjusted\n",
       "R-squared                                  0.6738                   0.6762                   0.6741                   0.6724\n",
       "R-Squared (Within)                         0.0118                   0.0666                  -0.1369                  -0.0143\n",
       "R-Squared (Between)                        0.3002                   0.6957                   0.3947                   0.7014\n",
       "R-Squared (Overall)                        0.3015                   0.6762                   0.3944                   0.6724\n",
       "F-statistic                                340.12                   348.04                   345.49                   346.82\n",
       "P-value (F-stat)                           0.0000                   0.0000                   0.0000                   0.0000\n",
       "======================     ======================   ======================   ======================   ======================\n",
       "np.log(dfp['csh_i'])                       0.3526                   0.3648                   0.3245                   0.3671\n",
       "                                         (4.8517)                 (5.0749)                 (4.3772)                 (5.0203)\n",
       "np.log(dfp['hc'])                          2.7448                   2.6485                   2.6434                   2.5362\n",
       "                                         (23.989)                 (24.297)                 (23.866)                 (23.512)\n",
       "np.log(dfp['ngs'])                         0.0852                   0.0498                                                  \n",
       "                                         (1.3722)                 (0.8267)                                                  \n",
       "Intercept                                                           7.8840                                            7.5982\n",
       "                                                                  (33.476)                                          (37.884)\n",
       "np.log(dfp['ngsi'])                                                                         -0.1731                  -0.1223\n",
       "                                                                                          (-4.0787)                (-3.0274)\n",
       "======================== ======================== ======================== ======================== ========================\n",
       "Effects                                      Time                                              Time                         \n",
       "----------------------------------------------------------------------------------------------------------------------------\n",
       "\n",
       "T-stats reported in parentheses\n",
       "PanelModelComparison, id: 0x17a2b596848"
      ]
     },
     "execution_count": 26,
     "metadata": {},
     "output_type": "execute_result"
    }
   ],
   "source": [
    "compare({'EF sin inflación':mpef,'PO sin inflación':mp1,'EF con inflación':mpef1,'PO con inflación':mp2})"
   ]
  },
  {
   "cell_type": "markdown",
   "metadata": {},
   "source": [
    "Teniendo en cuenta la gran cantidad de trabajos de investigación empíricos que relación la inflación negativamente con el crecimiento y el pbipc podemos usar un modelo empírico, teniendo en cuenta las principales variables que afectan al pbipc incluyendo en ellas la inflación.<br>\n",
    "Esto nos permitirá estimar cuantitativamente el efecto de la inflación sobre nuestra variable dependiente. También podemos verificar si la relación es robusta con el test de los límites extremos de Leamer. "
   ]
  },
  {
   "cell_type": "code",
   "execution_count": 27,
   "metadata": {},
   "outputs": [],
   "source": [
    "inf = PanelOLS.from_formula(\"np.log(pbipc) ~ 1 + np.log(inflacion) + TimeEffects\", data=dfp).fit()\n",
    "inf1 = PanelOLS.from_formula(\"np.log(pbipc) ~ 1 + np.log(inflacion) + np.log(csh_i) + TimeEffects\", data=dfp).fit()\n",
    "inf2 = PanelOLS.from_formula(\"np.log(pbipc) ~ 1 + np.log(inflacion) + np.log(csh_i) + np.log(hc) + TimeEffects\", data=dfp).fit()\n",
    "inf3 = PanelOLS.from_formula(\"np.log(pbipc) ~ 1 + np.log(inflacion) + + np.log(csh_i) + np.log(hc) + np.log(volatilidad) + TimeEffects\", data=dfp).fit()\n",
    "inf4 = PanelOLS.from_formula(\"np.log(pbipc) ~ 1 + np.log(inflacion) + np.log(csh_i) + np.log(hc) + np.log(volatilidad) + np.log(gov) + TimeEffects\", data=dfp).fit()\n",
    "inf5 = PanelOLS.from_formula(\"np.log(pbipc) ~ 1 + np.log(inflacion) + np.log(csh_i) + np.log(hc) + np.log(volatilidad) + np.log(gov) + np.log(ngs) + TimeEffects\", data=dfp).fit()\n",
    "inf6 = PanelOLS.from_formula(\"np.log(pbipc) ~ 1 + np.log(inflacion) + np.log(csh_i) + np.log(hc) + np.log(volatilidad) + np.log(gov) + np.log(ngs) + np.log(openness) + TimeEffects\", data=dfp).fit()"
   ]
  },
  {
   "cell_type": "markdown",
   "metadata": {},
   "source": [
    "Compruebo la significancia de la variable inflación con el test de los límites extremos de Leamer.Los resultados se muestran en la siguiente tabla:"
   ]
  },
  {
   "cell_type": "code",
   "execution_count": 28,
   "metadata": {
    "scrolled": false
   },
   "outputs": [
    {
     "data": {
      "text/html": [
       "<table class=\"simpletable\">\n",
       "<caption>Model Comparison</caption>\n",
       "<tr>\n",
       "             <td></td>                     <th>1</th>                 <th>2</th>                 <th>3</th>                 <th>4</th>                 <th>5</th>                 <th>6</th>                 <th>7</th>        \n",
       "</tr>\n",
       "<tr>\n",
       "  <th>Dep. Variable</th>             <td>np.log(pbipc)</td>     <td>np.log(pbipc)</td>     <td>np.log(pbipc)</td>     <td>np.log(pbipc)</td>     <td>np.log(pbipc)</td>     <td>np.log(pbipc)</td>     <td>np.log(pbipc)</td>  \n",
       "</tr>\n",
       "<tr>\n",
       "  <th>Estimator</th>                   <td>PanelOLS</td>          <td>PanelOLS</td>          <td>PanelOLS</td>          <td>PanelOLS</td>          <td>PanelOLS</td>          <td>PanelOLS</td>          <td>PanelOLS</td>     \n",
       "</tr>\n",
       "<tr>\n",
       "  <th>No. Observations</th>               <td>503</td>               <td>503</td>               <td>503</td>               <td>502</td>               <td>502</td>               <td>495</td>               <td>495</td>       \n",
       "</tr>\n",
       "<tr>\n",
       "  <th>Cov. Est.</th>                  <td>Unadjusted</td>        <td>Unadjusted</td>        <td>Unadjusted</td>        <td>Unadjusted</td>        <td>Unadjusted</td>        <td>Unadjusted</td>        <td>Unadjusted</td>    \n",
       "</tr>\n",
       "<tr>\n",
       "  <th>R-squared</th>                    <td>0.0937</td>            <td>0.3066</td>            <td>0.6787</td>            <td>0.6821</td>            <td>0.6822</td>            <td>0.6920</td>            <td>0.7354</td>      \n",
       "</tr>\n",
       "<tr>\n",
       "  <th>R-Squared (Within)</th>           <td>-0.3701</td>           <td>-1.3315</td>           <td>-0.2232</td>           <td>-0.2364</td>           <td>-0.2587</td>           <td>-0.2215</td>           <td>0.0063</td>      \n",
       "</tr>\n",
       "<tr>\n",
       "  <th>R-Squared (Between)</th>          <td>0.1282</td>            <td>0.3821</td>            <td>0.7011</td>            <td>0.6996</td>            <td>0.7000</td>            <td>0.7046</td>            <td>0.7428</td>      \n",
       "</tr>\n",
       "<tr>\n",
       "  <th>R-Squared (Overall)</th>          <td>0.1095</td>            <td>0.3187</td>            <td>0.6686</td>            <td>0.6705</td>            <td>0.6701</td>            <td>0.6810</td>            <td>0.7259</td>      \n",
       "</tr>\n",
       "<tr>\n",
       "  <th>F-statistic</th>                  <td>51.191</td>            <td>109.22</td>            <td>347.12</td>            <td>263.38</td>            <td>210.36</td>            <td>180.45</td>            <td>190.96</td>      \n",
       "</tr>\n",
       "<tr>\n",
       "  <th>P-value (F-stat)</th>             <td>0.0000</td>            <td>0.0000</td>            <td>0.0000</td>            <td>0.0000</td>            <td>0.0000</td>            <td>0.0000</td>            <td>0.0000</td>      \n",
       "</tr>\n",
       "<tr>\n",
       "  <th>=====================</th>    <td>===============</td>   <td>===============</td>   <td>===============</td>   <td>===============</td>   <td>===============</td>   <td>===============</td>   <td>===============</td> \n",
       "</tr>\n",
       "<tr>\n",
       "  <th>Intercept</th>                    <td>8.4877</td>            <td>10.754</td>            <td>7.2452</td>            <td>7.1447</td>            <td>7.0881</td>            <td>7.1287</td>            <td>7.3827</td>      \n",
       "</tr>\n",
       "<tr>\n",
       "  <th> </th>                           <td>(63.044)</td>          <td>(49.204)</td>          <td>(34.637)</td>          <td>(33.447)</td>          <td>(26.897)</td>          <td>(23.034)</td>          <td>(25.585)</td>     \n",
       "</tr>\n",
       "<tr>\n",
       "  <th>np.log(inflacion)</th>            <td>-0.3114</td>           <td>-0.1575</td>           <td>-0.1263</td>           <td>-0.1400</td>           <td>-0.1409</td>           <td>-0.1325</td>           <td>-0.0523</td>     \n",
       "</tr>\n",
       "<tr>\n",
       "  <th> </th>                           <td>(-7.1548)</td>         <td>(-3.9267)</td>         <td>(-4.6173)</td>         <td>(-4.9617)</td>         <td>(-4.9709)</td>         <td>(-4.7495)</td>         <td>(-1.9100)</td>    \n",
       "</tr>\n",
       "<tr>\n",
       "  <th>np.log(csh_i)</th>               <td>        </td>           <td>1.1590</td>            <td>0.2842</td>            <td>0.2628</td>            <td>0.2639</td>            <td>0.2286</td>            <td>0.1310</td>      \n",
       "</tr>\n",
       "<tr>\n",
       "  <th> </th>                           <td>        </td>          <td>(12.316)</td>          <td>(3.8491)</td>          <td>(3.5480)</td>          <td>(3.5572)</td>          <td>(3.1163)</td>          <td>(1.9007)</td>     \n",
       "</tr>\n",
       "<tr>\n",
       "  <th>np.log(hc)</th>                  <td>        </td>          <td>        </td>           <td>2.6534</td>            <td>2.6243</td>            <td>2.6283</td>            <td>2.6743</td>            <td>2.2551</td>      \n",
       "</tr>\n",
       "<tr>\n",
       "  <th> </th>                           <td>        </td>          <td>        </td>          <td>(23.893)</td>          <td>(23.252)</td>          <td>(23.158)</td>          <td>(23.161)</td>          <td>(19.265)</td>     \n",
       "</tr>\n",
       "<tr>\n",
       "  <th>np.log(volatilidad)</th>         <td>        </td>          <td>        </td>          <td>        </td>           <td>-0.0634</td>           <td>-0.0627</td>           <td>-0.0740</td>           <td>-0.0607</td>     \n",
       "</tr>\n",
       "<tr>\n",
       "  <th> </th>                           <td>        </td>          <td>        </td>          <td>        </td>          <td>(-1.6012)</td>         <td>(-1.5794)</td>         <td>(-1.9067)</td>         <td>(-1.6820)</td>    \n",
       "</tr>\n",
       "<tr>\n",
       "  <th>np.log(gov)</th>                 <td>        </td>          <td>        </td>          <td>        </td>          <td>        </td>           <td>-0.0287</td>           <td>-0.0061</td>           <td>-0.1460</td>     \n",
       "</tr>\n",
       "<tr>\n",
       "  <th> </th>                           <td>        </td>          <td>        </td>          <td>        </td>          <td>        </td>          <td>(-0.3678)</td>         <td>(-0.0801)</td>         <td>(-2.0128)</td>    \n",
       "</tr>\n",
       "<tr>\n",
       "  <th>np.log(ngs)</th>                 <td>        </td>          <td>        </td>          <td>        </td>          <td>        </td>          <td>        </td>           <td>0.0311</td>            <td>-0.0584</td>     \n",
       "</tr>\n",
       "<tr>\n",
       "  <th> </th>                           <td>        </td>          <td>        </td>          <td>        </td>          <td>        </td>          <td>        </td>          <td>(0.5074)</td>          <td>(-1.0126)</td>    \n",
       "</tr>\n",
       "<tr>\n",
       "  <th>np.log(openness)</th>            <td>        </td>          <td>        </td>          <td>        </td>          <td>        </td>          <td>        </td>          <td>        </td>           <td>0.3992</td>      \n",
       "</tr>\n",
       "<tr>\n",
       "  <th> </th>                           <td>        </td>          <td>        </td>          <td>        </td>          <td>        </td>          <td>        </td>          <td>        </td>          <td>(8.8855)</td>     \n",
       "</tr>\n",
       "<tr>\n",
       "  <th>=======================</th> <td>=================</td> <td>=================</td> <td>=================</td> <td>=================</td> <td>=================</td> <td>=================</td> <td>=================</td>\n",
       "</tr>\n",
       "<tr>\n",
       "  <th>Effects</th>                       <td>Time</td>              <td>Time</td>              <td>Time</td>              <td>Time</td>              <td>Time</td>              <td>Time</td>              <td>Time</td>       \n",
       "</tr>\n",
       "</table><br/><br/>T-stats reported in parentheses<br/>id: 0x17a2b740808"
      ],
      "text/plain": [
       "                                                                   Model Comparison                                                                  \n",
       "=====================================================================================================================================================\n",
       "                                        1                 2                 3                 4                 5                 6                 7\n",
       "-----------------------------------------------------------------------------------------------------------------------------------------------------\n",
       "Dep. Variable               np.log(pbipc)     np.log(pbipc)     np.log(pbipc)     np.log(pbipc)     np.log(pbipc)     np.log(pbipc)     np.log(pbipc)\n",
       "Estimator                        PanelOLS          PanelOLS          PanelOLS          PanelOLS          PanelOLS          PanelOLS          PanelOLS\n",
       "No. Observations                      503               503               503               502               502               495               495\n",
       "Cov. Est.                      Unadjusted        Unadjusted        Unadjusted        Unadjusted        Unadjusted        Unadjusted        Unadjusted\n",
       "R-squared                          0.0937            0.3066            0.6787            0.6821            0.6822            0.6920            0.7354\n",
       "R-Squared (Within)                -0.3701           -1.3315           -0.2232           -0.2364           -0.2587           -0.2215            0.0063\n",
       "R-Squared (Between)                0.1282            0.3821            0.7011            0.6996            0.7000            0.7046            0.7428\n",
       "R-Squared (Overall)                0.1095            0.3187            0.6686            0.6705            0.6701            0.6810            0.7259\n",
       "F-statistic                        51.191            109.22            347.12            263.38            210.36            180.45            190.96\n",
       "P-value (F-stat)                   0.0000            0.0000            0.0000            0.0000            0.0000            0.0000            0.0000\n",
       "=====================     ===============   ===============   ===============   ===============   ===============   ===============   ===============\n",
       "Intercept                          8.4877            10.754            7.2452            7.1447            7.0881            7.1287            7.3827\n",
       "                                 (63.044)          (49.204)          (34.637)          (33.447)          (26.897)          (23.034)          (25.585)\n",
       "np.log(inflacion)                 -0.3114           -0.1575           -0.1263           -0.1400           -0.1409           -0.1325           -0.0523\n",
       "                                (-7.1548)         (-3.9267)         (-4.6173)         (-4.9617)         (-4.9709)         (-4.7495)         (-1.9100)\n",
       "np.log(csh_i)                                        1.1590            0.2842            0.2628            0.2639            0.2286            0.1310\n",
       "                                                   (12.316)          (3.8491)          (3.5480)          (3.5572)          (3.1163)          (1.9007)\n",
       "np.log(hc)                                                             2.6534            2.6243            2.6283            2.6743            2.2551\n",
       "                                                                     (23.893)          (23.252)          (23.158)          (23.161)          (19.265)\n",
       "np.log(volatilidad)                                                                     -0.0634           -0.0627           -0.0740           -0.0607\n",
       "                                                                                      (-1.6012)         (-1.5794)         (-1.9067)         (-1.6820)\n",
       "np.log(gov)                                                                                               -0.0287           -0.0061           -0.1460\n",
       "                                                                                                        (-0.3678)         (-0.0801)         (-2.0128)\n",
       "np.log(ngs)                                                                                                                  0.0311           -0.0584\n",
       "                                                                                                                           (0.5074)         (-1.0126)\n",
       "np.log(openness)                                                                                                                               0.3992\n",
       "                                                                                                                                             (8.8855)\n",
       "======================= ================= ================= ================= ================= ================= ================= =================\n",
       "Effects                              Time              Time              Time              Time              Time              Time              Time\n",
       "-----------------------------------------------------------------------------------------------------------------------------------------------------\n",
       "\n",
       "T-stats reported in parentheses\n",
       "PanelModelComparison, id: 0x17a2b740808"
      ]
     },
     "execution_count": 28,
     "metadata": {},
     "output_type": "execute_result"
    }
   ],
   "source": [
    "compare({'1':inf,'2' :inf1, '3':inf2,'4':inf3,'5': inf4,'6':inf5,'7':inf6})"
   ]
  },
  {
   "cell_type": "markdown",
   "metadata": {},
   "source": [
    "Se puede ver que en cada una de las regresiones la variables Ln (inflación) es significativa al 5% en una prueba t de dos colas. Por lo que pasa el test de los límites extremos de Leamer. En cada una de las regresiones también el coeficiente estimado es negativo. A partir de esta regresión confirmamos los hallazgos del modelo anterior, llegando a la conclusión de que la inflación está relacionado negativamente con el pbipc.<br>\n",
    "Al estimar un modelo de estilo Ln-Ln nos permite acotar el rango de la variable dependiente y de las independientes en una cantidad más pequeña que la original. Esto ayuda a reducir la sensibilidad de las estimaciones a las observaciones extremas o atípicas.<br>\n",
    "Para poder interpretar los coeficientes estimados de esta regresión tenemos que tener en cuenta que miden la elasticidad de la variable dependiente con respecto a las variables independientes.<br>\n",
    "Teniendo en cuenta lo dicho anteriormente, si utilizamos la ecuación 7 como nuestro modelo de referencia, se puede ver que el coeficiente estimado para Ln (inflación) es igual a -0,05, lo que significa que un aumento de 1% de la tasa de la inflación disminuye el pbipc en un 0,05%.<br>"
   ]
  },
  {
   "cell_type": "markdown",
   "metadata": {},
   "source": [
    "<a id=\"conclusiones\"></a>\n",
    "<h2><center>Conclusiones</center></h2>\n",
    "A partir de lo analizado en este trabajo se puede llegar a la conclusión que la inflación repercute negativamente en el pbipc, por lo que una disminución seria provechoso para la sociedad en su conjunto. Se determinó esta relación utilizando dos modelos.<br>\n",
    "Primero a través de un modelo de crecimiento exógeno, el modelo de Mankiw, Romer y Weil, donde se encontró que al incluir la tasa de inflación al termino ngδ, su coeficiente estimado se volvió más negativo y significativo. Esto quiere decir que el pbipc depende de manera negativa con la inflación.<br>\n",
    "El segundo modelo es una estimación empírica en donde a partir de las principales variables que afectan al pbipc, se encontró también que la inflación afecta negativamente al pbipc y se obtuvo una relación cuantitativa entra estas 2 variables.<br>\n",
    "Una vez determinada la relación negativa existente, sería interesante seguir investigando porque a pesar de que un mayor nivel de inflación repercute en la sociedad, hay todavía países que todavía no pueden lograr vencerla. Una investigación profunda que asocie los costos a corto plazo y los beneficios a largo plazo de bajar  la inflación a niveles razonables sería un buen tópico para seguir estudiando.<br>"
   ]
  },
  {
   "cell_type": "markdown",
   "metadata": {},
   "source": [
    "<a id=\"biblio\"></a>\n",
    "<h2><center>Bibliografía</center></h2>\n",
    "<ul>\n",
    "    <li>Andres, J and Hernando, I. “Inflation and economic growth: some evidence for the OECD countries.” Federal Reserve Bank of New York.</li>\n",
    "    <li>Barro, R. (1995). “Inflation and economic growth.” Bank of England Economic Bulletin.</li>\n",
    "    <li>Briault, Clive. (1992). “The Costs of Inflation.” Bank of England Quarterly Bulletin.</li>\n",
    "    <li>Clark, TE. (1997). “Cross-country evidence on long-run growth and inflation.” Federal Reserve Bank of Kansas City.</li>\n",
    "    <li>De Gregorio (1993).”Inflation, taxation and long-run growth.” Journal of Monetary Economics.</li>\n",
    "    <li>Dornbusch, R. and J.A. Frenkel (1973). “Inflation and growth.” Journal of Money, Credit and Banking.</li>\n",
    "    <li>Drukker, D., Gomis, P.P., Hernandez-Verme, P. (2005) . “Threshold effects in the relationship between inflation and growth: a new panel-data approach.” Stata Coorporation, Monash University, Universidad Guanajuto.</li>\n",
    "    <li>Fischer, S. (1983). “Inflation and Growth.” NBER Working Paper.</li>\n",
    "    <li>Gylfason, T and Herbertsson, T. (1996). “Does inflation matter for growth.” World Development.</li>\n",
    "    <li>Islam, N. (1995). “Growth empirics: a panel data approach.” Quarterly Journal of Economics.</li>\n",
    "    <li>Khan, Mohsin S., and Abdelhak S. Senhadji. (2000). “Threshold Effects in the Relationship Between Inflation and Growth.” IMF Working Paper.</li>\n",
    "    <li>Levine, Ross, and David Renelt (1992). “A Sensitivity Analysis of Cross-Country Growth Regressions.” American Economic Review.</li>\n",
    "    <li>Mankiw, N. Gregory, David Romer, and David N. Weil (1992). “A Contribution to the Empirics of Economic Growth.” Quarterly Journal of Economics.</li>\n",
    "    <li>Motley, Brian (1993). “Growth and Inflation: A Cross-Country Study.” Federal Reserve Bank of San Francisco.</li>\n",
    "    <li>Roubini, N. and X. Sala-i-Martin (1995): \"A growth model of inflation, tax evasion and financial repression\". Journal of Monetary Economics.</li>\n",
    "    <li>Sidrauski, M. (1967). “Inflation and economic growth” Journal of Political Economy.</li>\n",
    "    <li>Stockman, A.C. (1981). “Anticipated inflation and the capital stock in a cash-in-advance economy.” Journal of Monetary Economics.</li>\n",
    "    <li>Tobin, J. (1965). ”Money and economic growth.”  Econometrica.</li>\n",
    "</ul>"
   ]
  }
 ],
 "metadata": {
  "kernelspec": {
   "display_name": "Python 3",
   "language": "python",
   "name": "python3"
  },
  "language_info": {
   "codemirror_mode": {
    "name": "ipython",
    "version": 3
   },
   "file_extension": ".py",
   "mimetype": "text/x-python",
   "name": "python",
   "nbconvert_exporter": "python",
   "pygments_lexer": "ipython3",
   "version": "3.7.7"
  }
 },
 "nbformat": 4,
 "nbformat_minor": 2
}
